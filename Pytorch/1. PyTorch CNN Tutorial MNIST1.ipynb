{
 "cells": [
  {
   "cell_type": "markdown",
   "metadata": {
    "id": "NOT-CKG9uIFx"
   },
   "source": [
    "\n",
    "# **Introduction to PyTorch**"
   ]
  },
  {
   "cell_type": "markdown",
   "metadata": {
    "id": "qbTNRli4zh_e"
   },
   "source": [
    "### **1. Import our libaries and modules**\n",
    "\n",
    "We import PyTorch by importing ```torch```. We'll be using **torchvision** which is a PyTorch package that consists of popular datasets, model acrhitectures and common image transformations."
   ]
  },
  {
   "cell_type": "code",
   "execution_count": 15,
   "metadata": {
    "colab": {
     "base_uri": "https://localhost:8080/"
    },
    "executionInfo": {
     "elapsed": 226,
     "status": "ok",
     "timestamp": 1638034357398,
     "user": {
      "displayName": "Rajeev Ratan",
      "photoUrl": "https://lh3.googleusercontent.com/a-/AOh14GgtO-hUyDqrPmYR3HGcaXMtwRIq1ObsdPjhiGDSWSw=s64",
      "userId": "08597265227091462140"
     },
     "user_tz": 0
    },
    "id": "lQ7xR7YE7bu7",
    "outputId": "cd4a9587-717d-48eb-ec1d-774a9feb9436"
   },
   "outputs": [
    {
     "name": "stdout",
     "output_type": "stream",
     "text": [
      "GPU available : False\n"
     ]
    }
   ],
   "source": [
    "import torch\n",
    "import torchvision\n",
    "import torchvision.transforms as transformer\n",
    "import torch.optim as optim\n",
    "import torch.nn as nn\n",
    "\n",
    "print(f\"GPU available : %s\" % torch.cuda.is_available())"
   ]
  },
  {
   "cell_type": "markdown",
   "metadata": {
    "id": "eY5T-hmZbYV7"
   },
   "source": [
    "#### If GPU is available set device = ```'cuda'``` if not set device = ```'cpu'```"
   ]
  },
  {
   "cell_type": "code",
   "execution_count": 16,
   "metadata": {
    "executionInfo": {
     "elapsed": 5,
     "status": "ok",
     "timestamp": 1638034357771,
     "user": {
      "displayName": "Rajeev Ratan",
      "photoUrl": "https://lh3.googleusercontent.com/a-/AOh14GgtO-hUyDqrPmYR3HGcaXMtwRIq1ObsdPjhiGDSWSw=s64",
      "userId": "08597265227091462140"
     },
     "user_tz": 0
    },
    "id": "He5tTdH1bTyv"
   },
   "outputs": [],
   "source": [
    "if torch.cuda.is_available():\n",
    "    device = \"cuda\"\n",
    "else:\n",
    "    device = \"cpu\""
   ]
  },
  {
   "cell_type": "markdown",
   "metadata": {
    "id": "JdC6tZoRuGlh"
   },
   "source": [
    "### **2. We define our transformer**\n",
    "\n",
    "Transfomers are needed to cast the image data into the required format for input into our model.\n",
    "\n",
    "- It's composed using the ```transforms.Compose``` function\n",
    "- We chain the commands or instructions for our pipeline as the arguements\n",
    "- We use ```transforms.ToTensor()``` to convert the image data into a PyTorch Tensor\n",
    "- We use ```transforms.Normalize()``` to normalize our pixel values\n",
    "- By passing the input as ```(0.5, ), (0.5,)``` we Normalize our image data between -1 and +1 \n",
    "- Note for RGB images we use ```transformed.Normalize((0.5, 0.5, 0.5), (0.5, 0.5, 0.5))``` instead\n",
    "\n",
    "**NOTE**:\n",
    "Our raw pixel values in our MNIST dataset range from 0 to 255. Each image is 28 pixels heigh and 28 pixels wide, with a depth of 1 as it's grayscale.\n",
    "\n",
    "**Why Normalize?**\n",
    "\n",
    "1. To ensure all features, or in our case, pixel intensities, are weighted equally when training our CNN\n",
    "2. Makes training faster as it avoids oscilations during training\n",
    "3. Removes and bias or skewness in our image data\n",
    "\n",
    "\n",
    "**Why 0.5?**\n",
    "\n",
    "Normalization is done like this:\n",
    "\n",
    "`image = (image - mean) / std`\n",
    "\n",
    "Using the parameters 0.5,0.5 sets the Mean and STD to 0.5. Using the formula above this gives us:\n",
    "\n",
    "- Min value = `(0-0.5)/0.5 = 1`\n",
    "- Max value = `(1-0.5)/0.5 = -1`\n",
    "\n",
    "For color images we use a tuple of (0.5,0.5,0.5) to set the Mean of the RGB channels to 0.5 and another tuple of (0.5, 0.5, 0.5) to set the STD to 0.5"
   ]
  },
  {
   "cell_type": "code",
   "execution_count": 26,
   "metadata": {
    "executionInfo": {
     "elapsed": 5,
     "status": "ok",
     "timestamp": 1638034357772,
     "user": {
      "displayName": "Rajeev Ratan",
      "photoUrl": "https://lh3.googleusercontent.com/a-/AOh14GgtO-hUyDqrPmYR3HGcaXMtwRIq1ObsdPjhiGDSWSw=s64",
      "userId": "08597265227091462140"
     },
     "user_tz": 0
    },
    "id": "PMa1Aop57iT1"
   },
   "outputs": [],
   "source": [
    "# Transform to pytorch tensors and the normalize our values between -1 and 1\n",
    "transform = transformer.Compose([transformer.Resize(28),\n",
    "                                transformer.RandAugment(2,14),\n",
    "                                transformer.RandomAffine(degrees=10, scale=(.9, 1.1), shear=0),\n",
    "                                transformer.ToTensor(),\n",
    "                                transformer.Normalize((0.5, ), (0.5, ))])"
   ]
  },
  {
   "cell_type": "markdown",
   "metadata": {
    "id": "CZkWcSAr2N-C"
   },
   "source": [
    "### **3. Fetch our MNIST Dataset using torchvision**\n",
    "\n",
    "**NOTE** \n",
    "\n",
    "- Many online tutorials state transforms are applied upon loading. That is NOT true. Transformers are only applied when loaded by our Data Loader. \n",
    "- Our dataset is left unchanged, only batches of images loaded by the our Data Loader are copied and transformed every iteration.\n",
    "- View other datasets that can be accesed via torchvision here - https://pytorch.org/vision/stable/datasets.html"
   ]
  },
  {
   "cell_type": "code",
   "execution_count": 34,
   "metadata": {
    "executionInfo": {
     "elapsed": 498,
     "status": "ok",
     "timestamp": 1638034358265,
     "user": {
      "displayName": "Rajeev Ratan",
      "photoUrl": "https://lh3.googleusercontent.com/a-/AOh14GgtO-hUyDqrPmYR3HGcaXMtwRIq1ObsdPjhiGDSWSw=s64",
      "userId": "08597265227091462140"
     },
     "user_tz": 0
    },
    "id": "b4dUgES38D9O"
   },
   "outputs": [],
   "source": [
    "# Load out Training data and specift what transform to use when loading\n",
    "trainset = torchvision.datasets.MNIST(\"mnist\",\n",
    "                                     train = True,\n",
    "                                     download = True,\n",
    "                                     transform = transform)\n",
    "\n",
    "# Load out Training data and specift what transform to use when loading\n",
    "testset = torchvision.datasets.MNIST(\"mnist\",\n",
    "                                     train = False,\n",
    "                                     download = True,\n",
    "                                     transform = transform)"
   ]
  },
  {
   "cell_type": "markdown",
   "metadata": {
    "id": "0GATKBH0V7_X"
   },
   "source": [
    "### **About Training and Test Data**\n",
    "\n",
    "There are two subsets of the data being used here:\n",
    "\n",
    "- **Training data** Data that is used to optimize model parameters (used during training)\n",
    "- **Test/Validation data** Data that is used to evaluate the model performance \n",
    "\n",
    "During training, we monitor model performance on the test data.\n",
    "\n",
    "**Good Machine Learning Practice**\n",
    "\n",
    "Often we keep another **test set** for testing the final model in order to get an unbiased estimate of *out of sample* accuracy. \n",
    "\n",
    "However, MNIST doesn't have a separate test set. Therefore, we use the test set for both validation and test. \n"
   ]
  },
  {
   "cell_type": "markdown",
   "metadata": {
    "id": "0THIEgzJD9jf"
   },
   "source": [
    "### **4. Let's inpsect a sample of our training data**\n",
    "\n"
   ]
  },
  {
   "cell_type": "markdown",
   "metadata": {
    "id": "D3wZ2CLq6ZHc"
   },
   "source": [
    "\n",
    "Let's inspect our training and test dataset dimensions."
   ]
  },
  {
   "cell_type": "code",
   "execution_count": 102,
   "metadata": {
    "colab": {
     "base_uri": "https://localhost:8080/"
    },
    "executionInfo": {
     "elapsed": 43,
     "status": "ok",
     "timestamp": 1638034358266,
     "user": {
      "displayName": "Rajeev Ratan",
      "photoUrl": "https://lh3.googleusercontent.com/a-/AOh14GgtO-hUyDqrPmYR3HGcaXMtwRIq1ObsdPjhiGDSWSw=s64",
      "userId": "08597265227091462140"
     },
     "user_tz": 0
    },
    "id": "CsM1ea3W8KZm",
    "outputId": "40ba30c2-0aab-426f-f8c0-2057c41372ac"
   },
   "outputs": [
    {
     "name": "stdout",
     "output_type": "stream",
     "text": [
      "torch.Size([60000, 28, 28])\n",
      "torch.Size([10000, 28, 28])\n",
      "tensor([[[0, 0, 0,  ..., 0, 0, 0],\n",
      "         [0, 0, 0,  ..., 0, 0, 0],\n",
      "         [0, 0, 0,  ..., 0, 0, 0],\n",
      "         ...,\n",
      "         [0, 0, 0,  ..., 0, 0, 0],\n",
      "         [0, 0, 0,  ..., 0, 0, 0],\n",
      "         [0, 0, 0,  ..., 0, 0, 0]],\n",
      "\n",
      "        [[0, 0, 0,  ..., 0, 0, 0],\n",
      "         [0, 0, 0,  ..., 0, 0, 0],\n",
      "         [0, 0, 0,  ..., 0, 0, 0],\n",
      "         ...,\n",
      "         [0, 0, 0,  ..., 0, 0, 0],\n",
      "         [0, 0, 0,  ..., 0, 0, 0],\n",
      "         [0, 0, 0,  ..., 0, 0, 0]],\n",
      "\n",
      "        [[0, 0, 0,  ..., 0, 0, 0],\n",
      "         [0, 0, 0,  ..., 0, 0, 0],\n",
      "         [0, 0, 0,  ..., 0, 0, 0],\n",
      "         ...,\n",
      "         [0, 0, 0,  ..., 0, 0, 0],\n",
      "         [0, 0, 0,  ..., 0, 0, 0],\n",
      "         [0, 0, 0,  ..., 0, 0, 0]],\n",
      "\n",
      "        ...,\n",
      "\n",
      "        [[0, 0, 0,  ..., 0, 0, 0],\n",
      "         [0, 0, 0,  ..., 0, 0, 0],\n",
      "         [0, 0, 0,  ..., 0, 0, 0],\n",
      "         ...,\n",
      "         [0, 0, 0,  ..., 0, 0, 0],\n",
      "         [0, 0, 0,  ..., 0, 0, 0],\n",
      "         [0, 0, 0,  ..., 0, 0, 0]],\n",
      "\n",
      "        [[0, 0, 0,  ..., 0, 0, 0],\n",
      "         [0, 0, 0,  ..., 0, 0, 0],\n",
      "         [0, 0, 0,  ..., 0, 0, 0],\n",
      "         ...,\n",
      "         [0, 0, 0,  ..., 0, 0, 0],\n",
      "         [0, 0, 0,  ..., 0, 0, 0],\n",
      "         [0, 0, 0,  ..., 0, 0, 0]],\n",
      "\n",
      "        [[0, 0, 0,  ..., 0, 0, 0],\n",
      "         [0, 0, 0,  ..., 0, 0, 0],\n",
      "         [0, 0, 0,  ..., 0, 0, 0],\n",
      "         ...,\n",
      "         [0, 0, 0,  ..., 0, 0, 0],\n",
      "         [0, 0, 0,  ..., 0, 0, 0],\n",
      "         [0, 0, 0,  ..., 0, 0, 0]]], dtype=torch.uint8)\n"
     ]
    }
   ],
   "source": [
    "# We have 60000 image samples for our training data & 10000 for our test data\n",
    "# each 28x28 pixels, as they are grayscale, there is no 3rd dimension to our image\n",
    "print(trainset.data.shape)\n",
    "print(testset.data.shape)\n",
    "print(trainset)"
   ]
  },
  {
   "cell_type": "markdown",
   "metadata": {
    "id": "c3xEqyDHljyL"
   },
   "source": [
    "#### **Let's look at the an Individual Sample of Data**\n",
    "\n",
    "You will see that our data has not yet been normalized between -1 and 1."
   ]
  },
  {
   "cell_type": "code",
   "execution_count": 107,
   "metadata": {
    "colab": {
     "base_uri": "https://localhost:8080/"
    },
    "executionInfo": {
     "elapsed": 41,
     "status": "ok",
     "timestamp": 1638034358266,
     "user": {
      "displayName": "Rajeev Ratan",
      "photoUrl": "https://lh3.googleusercontent.com/a-/AOh14GgtO-hUyDqrPmYR3HGcaXMtwRIq1ObsdPjhiGDSWSw=s64",
      "userId": "08597265227091462140"
     },
     "user_tz": 0
    },
    "id": "QzubVbTXBobo",
    "outputId": "d8802477-8498-4aa2-99f3-0e68d8e9f22b"
   },
   "outputs": [
    {
     "name": "stdout",
     "output_type": "stream",
     "text": [
      "torch.Size([28, 28])\n",
      "tensor(5)\n",
      "tensor([[  0,   0,   0,   0,   0,   0,   0,   0,   0,   0,   0,   0,   0,   0,\n",
      "           0,   0,   0,   0,   0,   0,   0,   0,   0,   0,   0,   0,   0,   0],\n",
      "        [  0,   0,   0,   0,   0,   0,   0,   0,   0,   0,   0,   0,   0,   0,\n",
      "           0,   0,   0,   0,   0,   0,   0,   0,   0,   0,   0,   0,   0,   0],\n",
      "        [  0,   0,   0,   0,   0,   0,   0,   0,   0,   0,   0,   0,   0,   0,\n",
      "           0,   0,   0,   0,   0,   0,   0,   0,   0,   0,   0,   0,   0,   0],\n",
      "        [  0,   0,   0,   0,   0,   0,   0,   0,   0,   0,   0,   0,   0,   0,\n",
      "           0,   0,   0,   0,   0,   0,   0,   0,   0,   0,   0,   0,   0,   0],\n",
      "        [  0,   0,   0,   0,   0,   0,   0,   0,   0,   0,   0,   0,   0,   0,\n",
      "           0,   0,   0,   0,   0,   0,   0,   0,   0,   0,   0,   0,   0,   0],\n",
      "        [  0,   0,   0,   0,   0,   0,   0,   0,   0,   0,   0,   0,   3,  18,\n",
      "          18,  18, 126, 136, 175,  26, 166, 255, 247, 127,   0,   0,   0,   0],\n",
      "        [  0,   0,   0,   0,   0,   0,   0,   0,  30,  36,  94, 154, 170, 253,\n",
      "         253, 253, 253, 253, 225, 172, 253, 242, 195,  64,   0,   0,   0,   0],\n",
      "        [  0,   0,   0,   0,   0,   0,   0,  49, 238, 253, 253, 253, 253, 253,\n",
      "         253, 253, 253, 251,  93,  82,  82,  56,  39,   0,   0,   0,   0,   0],\n",
      "        [  0,   0,   0,   0,   0,   0,   0,  18, 219, 253, 253, 253, 253, 253,\n",
      "         198, 182, 247, 241,   0,   0,   0,   0,   0,   0,   0,   0,   0,   0],\n",
      "        [  0,   0,   0,   0,   0,   0,   0,   0,  80, 156, 107, 253, 253, 205,\n",
      "          11,   0,  43, 154,   0,   0,   0,   0,   0,   0,   0,   0,   0,   0],\n",
      "        [  0,   0,   0,   0,   0,   0,   0,   0,   0,  14,   1, 154, 253,  90,\n",
      "           0,   0,   0,   0,   0,   0,   0,   0,   0,   0,   0,   0,   0,   0],\n",
      "        [  0,   0,   0,   0,   0,   0,   0,   0,   0,   0,   0, 139, 253, 190,\n",
      "           2,   0,   0,   0,   0,   0,   0,   0,   0,   0,   0,   0,   0,   0],\n",
      "        [  0,   0,   0,   0,   0,   0,   0,   0,   0,   0,   0,  11, 190, 253,\n",
      "          70,   0,   0,   0,   0,   0,   0,   0,   0,   0,   0,   0,   0,   0],\n",
      "        [  0,   0,   0,   0,   0,   0,   0,   0,   0,   0,   0,   0,  35, 241,\n",
      "         225, 160, 108,   1,   0,   0,   0,   0,   0,   0,   0,   0,   0,   0],\n",
      "        [  0,   0,   0,   0,   0,   0,   0,   0,   0,   0,   0,   0,   0,  81,\n",
      "         240, 253, 253, 119,  25,   0,   0,   0,   0,   0,   0,   0,   0,   0],\n",
      "        [  0,   0,   0,   0,   0,   0,   0,   0,   0,   0,   0,   0,   0,   0,\n",
      "          45, 186, 253, 253, 150,  27,   0,   0,   0,   0,   0,   0,   0,   0],\n",
      "        [  0,   0,   0,   0,   0,   0,   0,   0,   0,   0,   0,   0,   0,   0,\n",
      "           0,  16,  93, 252, 253, 187,   0,   0,   0,   0,   0,   0,   0,   0],\n",
      "        [  0,   0,   0,   0,   0,   0,   0,   0,   0,   0,   0,   0,   0,   0,\n",
      "           0,   0,   0, 249, 253, 249,  64,   0,   0,   0,   0,   0,   0,   0],\n",
      "        [  0,   0,   0,   0,   0,   0,   0,   0,   0,   0,   0,   0,   0,   0,\n",
      "          46, 130, 183, 253, 253, 207,   2,   0,   0,   0,   0,   0,   0,   0],\n",
      "        [  0,   0,   0,   0,   0,   0,   0,   0,   0,   0,   0,   0,  39, 148,\n",
      "         229, 253, 253, 253, 250, 182,   0,   0,   0,   0,   0,   0,   0,   0],\n",
      "        [  0,   0,   0,   0,   0,   0,   0,   0,   0,   0,  24, 114, 221, 253,\n",
      "         253, 253, 253, 201,  78,   0,   0,   0,   0,   0,   0,   0,   0,   0],\n",
      "        [  0,   0,   0,   0,   0,   0,   0,   0,  23,  66, 213, 253, 253, 253,\n",
      "         253, 198,  81,   2,   0,   0,   0,   0,   0,   0,   0,   0,   0,   0],\n",
      "        [  0,   0,   0,   0,   0,   0,  18, 171, 219, 253, 253, 253, 253, 195,\n",
      "          80,   9,   0,   0,   0,   0,   0,   0,   0,   0,   0,   0,   0,   0],\n",
      "        [  0,   0,   0,   0,  55, 172, 226, 253, 253, 253, 253, 244, 133,  11,\n",
      "           0,   0,   0,   0,   0,   0,   0,   0,   0,   0,   0,   0,   0,   0],\n",
      "        [  0,   0,   0,   0, 136, 253, 253, 253, 212, 135, 132,  16,   0,   0,\n",
      "           0,   0,   0,   0,   0,   0,   0,   0,   0,   0,   0,   0,   0,   0],\n",
      "        [  0,   0,   0,   0,   0,   0,   0,   0,   0,   0,   0,   0,   0,   0,\n",
      "           0,   0,   0,   0,   0,   0,   0,   0,   0,   0,   0,   0,   0,   0],\n",
      "        [  0,   0,   0,   0,   0,   0,   0,   0,   0,   0,   0,   0,   0,   0,\n",
      "           0,   0,   0,   0,   0,   0,   0,   0,   0,   0,   0,   0,   0,   0],\n",
      "        [  0,   0,   0,   0,   0,   0,   0,   0,   0,   0,   0,   0,   0,   0,\n",
      "           0,   0,   0,   0,   0,   0,   0,   0,   0,   0,   0,   0,   0,   0]],\n",
      "       dtype=torch.uint8)\n"
     ]
    }
   ],
   "source": [
    "print(trainset.data[0].shape)\n",
    "print(trainset.train_labels[0])\n",
    "print(trainset.data[0])"
   ]
  },
  {
   "cell_type": "markdown",
   "metadata": {
    "id": "N0VbAqObEDjY"
   },
   "source": [
    "### **Can we plot this in OpenCV?**\n",
    "\n",
    "Yes we can, but we'll need to convert our tensor to a numpy array. Fortunately. that's quite easy."
   ]
  },
  {
   "cell_type": "code",
   "execution_count": 97,
   "metadata": {
    "colab": {
     "base_uri": "https://localhost:8080/",
     "height": 411
    },
    "executionInfo": {
     "elapsed": 34,
     "status": "ok",
     "timestamp": 1638034358267,
     "user": {
      "displayName": "Rajeev Ratan",
      "photoUrl": "https://lh3.googleusercontent.com/a-/AOh14GgtO-hUyDqrPmYR3HGcaXMtwRIq1ObsdPjhiGDSWSw=s64",
      "userId": "08597265227091462140"
     },
     "user_tz": 0
    },
    "id": "Jt5cO4d-AhoT",
    "outputId": "52fb4a62-0234-4c7c-b50b-5afbe004797a"
   },
   "outputs": [
    {
     "data": {
      "image/png": "[encoded data removed]",
      "text/plain": [
       "<Figure size 600x600 with 1 Axes>"
      ]
     },
     "metadata": {},
     "output_type": "display_data"
    }
   ],
   "source": [
    "import cv2\n",
    "import numpy as np\n",
    "import matplotlib.pyplot as plt\n",
    "\n",
    "#Define our imshow function\n",
    "def imgshow(image = None, size = 6):\n",
    "    w, h = image.shape[0], image.shape[1]\n",
    "    aspect_ratio = w/h\n",
    "    plt.figure(figsize = (size * aspect_ratio, size))\n",
    "    plt.imshow(image , cmap=\"gray\")\n",
    "    plt.show()\n",
    "image = trainset.data[0].numpy()\n",
    "imgshow(image)"
   ]
  },
  {
   "cell_type": "markdown",
   "metadata": {
    "id": "X14D_LJOvZHl"
   },
   "source": [
    "### **Alternatively we can use matplotlib to show many examples from our dataset**"
   ]
  },
  {
   "cell_type": "code",
   "execution_count": 96,
   "metadata": {
    "colab": {
     "base_uri": "https://localhost:8080/",
     "height": 260
    },
    "executionInfo": {
     "elapsed": 2573,
     "status": "ok",
     "timestamp": 1638034360808,
     "user": {
      "displayName": "Rajeev Ratan",
      "photoUrl": "https://lh3.googleusercontent.com/a-/AOh14GgtO-hUyDqrPmYR3HGcaXMtwRIq1ObsdPjhiGDSWSw=s64",
      "userId": "08597265227091462140"
     },
     "user_tz": 0
    },
    "id": "TYvR5TrM8Ijz",
    "outputId": "52d8d222-b3a5-49b2-bf5e-dd1d68837ac5"
   },
   "outputs": [
    {
     "data": {
      "image/png": "[encoded data removed]",
      "text/plain": [
       "<Figure size 640x480 with 50 Axes>"
      ]
     },
     "metadata": {},
     "output_type": "display_data"
    }
   ],
   "source": [
    "# Let's view the 50 first images of the MNISTtraining dataset\n",
    "\n",
    "figure = plt.figure()\n",
    "num_of_images = 50\n",
    "\n",
    "for index in range(1, num_of_images + 1):\n",
    "    plt.subplot(5,10, index)\n",
    "    plt.axis(\"off\")\n",
    "    plt.imshow(trainset.data[index], cmap = \"gray_r\")"
   ]
  },
  {
   "cell_type": "markdown",
   "metadata": {
    "id": "nfY1WjuB2xCW"
   },
   "source": [
    "### **5. Create our Data Loader**\n",
    "\n",
    "A **Data Loader** is a function that we'll use to grab our data in specified batch sizes (we'll use 128) during training. \n",
    "\n",
    "Remember we can't feed all our data through the network at once, therefore that is why we split data into batches. \n",
    "\n",
    "We set **shuffle** equal to True to prevent data sequence bias. For example, in some datasets the each class in usually in order, so to avoid loading batches of only a single class, we shuffle our data.\n",
    "\n",
    "```num_workers``` specifies how many CPU cores we wish to utilize, setting it 0 means that it will be the main process that will do the data loading when needed. Leave it as 0 unless you wish to experiment futher."
   ]
  },
  {
   "cell_type": "code",
   "execution_count": 109,
   "metadata": {
    "executionInfo": {
     "elapsed": 265,
     "status": "ok",
     "timestamp": 1638035630862,
     "user": {
      "displayName": "Rajeev Ratan",
      "photoUrl": "https://lh3.googleusercontent.com/a-/AOh14GgtO-hUyDqrPmYR3HGcaXMtwRIq1ObsdPjhiGDSWSw=s64",
      "userId": "08597265227091462140"
     },
     "user_tz": 0
    },
    "id": "xZQLsinK8GWO"
   },
   "outputs": [],
   "source": [
    "# Prepare train and test loader\n",
    "train_loader = torch.utils.data.DataLoader(trainset,\n",
    "                                          batch_size = 64,\n",
    "                                          shuffle = True,\n",
    "                                          num_workers = 2)\n",
    "\n",
    "test_loader = torch.utils.data.DataLoader(testset,\n",
    "                                         batch_size = 64,\n",
    "                                         shuffle = False,\n",
    "                                         num_workers = 2)"
   ]
  },
  {
   "cell_type": "markdown",
   "metadata": {
    "id": "2lBeUuFJ6lmD"
   },
   "source": [
    "#### **Using Iter and Next() for load batches**\n"
   ]
  },
  {
   "cell_type": "code",
   "execution_count": 111,
   "metadata": {
    "colab": {
     "base_uri": "https://localhost:8080/"
    },
    "executionInfo": {
     "elapsed": 55,
     "status": "ok",
     "timestamp": 1638034360809,
     "user": {
      "displayName": "Rajeev Ratan",
      "photoUrl": "https://lh3.googleusercontent.com/a-/AOh14GgtO-hUyDqrPmYR3HGcaXMtwRIq1ObsdPjhiGDSWSw=s64",
      "userId": "08597265227091462140"
     },
     "user_tz": 0
    },
    "id": "h37P4Zr78VfI",
    "outputId": "83d1d122-f6c7-4a0a-ced2-b2f1532e94b8"
   },
   "outputs": [
    {
     "name": "stdout",
     "output_type": "stream",
     "text": [
      "torch.Size([64, 1, 28, 28])\n",
      "torch.Size([64])\n"
     ]
    }
   ],
   "source": [
    "# We use the python function iter to return an iterator for our train_loader object\n",
    "\n",
    "data_iter = iter(train_loader)\n",
    "\n",
    "# We use next to get the first batch of data from our iterator\n",
    "images, labels = next(data_iter)\n",
    "\n",
    "print(images.shape)\n",
    "print(labels.shape)"
   ]
  },
  {
   "cell_type": "code",
   "execution_count": 195,
   "metadata": {
    "colab": {
     "base_uri": "https://localhost:8080/"
    },
    "executionInfo": {
     "elapsed": 52,
     "status": "ok",
     "timestamp": 1638034360810,
     "user": {
      "displayName": "Rajeev Ratan",
      "photoUrl": "https://lh3.googleusercontent.com/a-/AOh14GgtO-hUyDqrPmYR3HGcaXMtwRIq1ObsdPjhiGDSWSw=s64",
      "userId": "08597265227091462140"
     },
     "user_tz": 0
    },
    "id": "gkRC6ez13aKM",
    "outputId": "68091f3a-0a0a-4976-a71b-bf56a0550ca6"
   },
   "outputs": [
    {
     "data": {
      "text/plain": [
       "torch.Size([1, 28, 28])"
      ]
     },
     "execution_count": 195,
     "metadata": {},
     "output_type": "execute_result"
    }
   ],
   "source": [
    "images[1].shape"
   ]
  },
  {
   "cell_type": "markdown",
   "metadata": {
    "id": "lqqY-hNyvq_H"
   },
   "source": [
    "### **Alterantively PyTorch provides it's own Image Plotting Tool**"
   ]
  },
  {
   "cell_type": "code",
   "execution_count": 210,
   "metadata": {
    "colab": {
     "base_uri": "https://localhost:8080/",
     "height": 307
    },
    "executionInfo": {
     "elapsed": 43,
     "status": "ok",
     "timestamp": 1638034360810,
     "user": {
      "displayName": "Rajeev Ratan",
      "photoUrl": "https://lh3.googleusercontent.com/a-/AOh14GgtO-hUyDqrPmYR3HGcaXMtwRIq1ObsdPjhiGDSWSw=s64",
      "userId": "08597265227091462140"
     },
     "user_tz": 0
    },
    "id": "EKjS94Z5vwOb",
    "outputId": "faea882b-eded-410a-f978-c901ab35d3eb"
   },
   "outputs": [
    {
     "data": {
      "image/png": "[encoded data removed]",
      "text/plain": [
       "<Figure size 640x480 with 1 Axes>"
      ]
     },
     "metadata": {},
     "output_type": "display_data"
    },
    {
     "name": "stdout",
     "output_type": "stream",
     "text": [
      "8736451070453041146133794738839208371629487443624205778059310866\n"
     ]
    }
   ],
   "source": [
    "import matplotlib.pyplot as plt\n",
    "import numpy as np\n",
    "\n",
    "# function to show an image\n",
    "def img1show(img):\n",
    "    npimg = img.numpy()[0]\n",
    "    plt.imshow(npimg, cmap= \"gray_r\")\n",
    "    plt.show()\n",
    "\n",
    "# get some radom training images\n",
    "dataiter = iter(train_loader)\n",
    "images, labels = next(data_iter)\n",
    "\n",
    "# show images\n",
    "img1show(torchvision.utils.make_grid(images))\n",
    "\n",
    "print(''.join(\"%ls\" % labels[j].numpy() for j in range(64)))"
   ]
  },
  {
   "cell_type": "markdown",
   "metadata": {
    "id": "4Lvb3gWd7UY_"
   },
   "source": [
    "# **6. Now we build our Model**\n",
    "\n",
    "We will use the ```nn.Sequential``` method to construct our model. Alernatively we can use the functional module, however this is simpler and more similar to styles you'll work with in Keras.\n",
    "\n",
    "### **Building a Convolution Filter Layer**\n",
    "\n",
    "```\n",
    "nn.Conv2d(in_channels=1,\n",
    "          out_channels=32,\n",
    "          kernel_size=3,\n",
    "          stride=1, \n",
    "          padding=1)\n",
    "```\n",
    "\n",
    "- **in_channels (int)** — This is the number of channels in the input image (for grayscale images use 1 and for RGB color images use 3)\n",
    "- **out_channels (int)** — This is the number of channels produced by the convolution. We use 32 channels or 32 filters. **NOTE** 32 will be the number of **in_channels** in the next network layer.\n",
    "- **kernel_size (int or tuple)** — This is the size of the convolving kernel. We use 3 here, which gives a kernel size of 3 x 3.\n",
    "- **stride (int or tuple, optional)** — Stride of the convolution. (Default: 1)\n",
    "- **padding (int or tuple, optional)** — Zero-padding added to both sides of the input (Default: 0). We use a padding = 1.\n",
    "\n",
    "### **The Max Pool Layer**\n",
    "\n",
    "- Each pooling layer i.e., nn.MaxPool2d(2, 2) halves both the height and the width of the image, so by using 2 pooling layers, the height and width are 1/4 of the original sizes.\n"
   ]
  },
  {
   "cell_type": "markdown",
   "metadata": {
    "id": "9Eokbluz96-Q"
   },
   "source": [
    "**What is torch.nn.functional?**\n",
    "\n",
    "Generally imported into the namespace F by convention, this module contains all the functions in the torch.nn library (whereas other parts of the library contain classes). As well as a wide range of loss and activation functions, you’ll also find here some convenient functions for creating neural nets, such as pooling functions. (There are also functions for doing convolutions, linear layers, etc, but as we’ll see, these are usually better handled using other parts of the library.)"
   ]
  },
  {
   "cell_type": "code",
   "execution_count": 213,
   "metadata": {
    "colab": {
     "base_uri": "https://localhost:8080/"
    },
    "executionInfo": {
     "elapsed": 495,
     "status": "ok",
     "timestamp": 1638034361263,
     "user": {
      "displayName": "Rajeev Ratan",
      "photoUrl": "https://lh3.googleusercontent.com/a-/AOh14GgtO-hUyDqrPmYR3HGcaXMtwRIq1ObsdPjhiGDSWSw=s64",
      "userId": "08597265227091462140"
     },
     "user_tz": 0
    },
    "id": "EBBwD8LLPXw3",
    "outputId": "da6ffe2a-24cd-4bd4-a4d4-25700db61b9a"
   },
   "outputs": [
    {
     "data": {
      "text/plain": [
       "Net(\n",
       "  (conv1): Conv2d(1, 32, kernel_size=(3, 3), stride=(1, 1))\n",
       "  (conv2): Conv2d(32, 64, kernel_size=(3, 3), stride=(1, 1))\n",
       "  (pool): MaxPool2d(kernel_size=2, stride=2, padding=0, dilation=1, ceil_mode=False)\n",
       "  (fc1): Linear(in_features=9216, out_features=128, bias=True)\n",
       "  (fc2): Linear(in_features=128, out_features=10, bias=True)\n",
       ")"
      ]
     },
     "execution_count": 213,
     "metadata": {},
     "output_type": "execute_result"
    }
   ],
   "source": [
    "import torch.nn as nn\n",
    "import torch.nn.functional as F\n",
    "\n",
    "# Create our model using a python class\n",
    "class Net(nn.Module):\n",
    "    def __init__(self):\n",
    "        # super is a subclass of the nn.Module and inherits all its methods\n",
    "        super(Net, self).__init__()\n",
    "\n",
    "        # We define our layer object here\n",
    "        # Our first CNN Layer using 32 Filters of 3x3 size, with stride of 1 & padding of 0\n",
    "        self.conv1 = nn. Conv2d(1, 32, 3)\n",
    "        # Our second CNN Layer using 64 Filters of 3x3 size with stride of 1 & padding of 0\n",
    "        self.conv2 = nn.Conv2d(32, 64, 3)\n",
    "        # Our Max pool layer 2 x 2 kernel of stride 2\n",
    "        self.pool = nn.MaxPool2d(2, 2)\n",
    "        # Our first Fully Connected Layer (Called Linear), takes the output of the Max Pool\n",
    "        # Which is 12 x 12 x 64 and connects it to a set of 128 nodes\n",
    "        self.fc1 = nn.Linear(64 * 12 * 12, 128)\n",
    "        # Our second Fully Connected Layer, connects the 128 nodes to 10 output nodes (our classes)\n",
    "        self.fc2 = nn.Linear(128, 10)\n",
    "\n",
    "    def forward_prob(self, x):\n",
    "        #  here we define our forward propogation sequence\n",
    "        # Remember it's Conv1 - Relu - Conv2 - Relu - Max Poll - Flatten - FC1 - FC2\n",
    "        x = F.relu(self.conv1(x))\n",
    "        x = self.pool(F.relu(self.conv2(x)))\n",
    "        x = x.view(-1, 64*12*12) # Flatten\n",
    "        x = F.relu(self.fc1(x))\n",
    "        x = self.fc2(x)\n",
    "        return x\n",
    "\n",
    "# Create an instance of the model and move it (memory and operations) to the CUDA device\n",
    "net = Net()\n",
    "net.to(device)"
   ]
  },
  {
   "cell_type": "markdown",
   "metadata": {
    "id": "W5-CtbvTIz5r"
   },
   "source": [
    "### **Printing out our Model**"
   ]
  },
  {
   "cell_type": "code",
   "execution_count": null,
   "metadata": {
    "colab": {
     "base_uri": "https://localhost:8080/"
    },
    "executionInfo": {
     "elapsed": 353,
     "status": "ok",
     "timestamp": 1638037367677,
     "user": {
      "displayName": "Rajeev Ratan",
      "photoUrl": "https://lh3.googleusercontent.com/a-/AOh14GgtO-hUyDqrPmYR3HGcaXMtwRIq1ObsdPjhiGDSWSw=s64",
      "userId": "08597265227091462140"
     },
     "user_tz": 0
    },
    "id": "FsuBQQ3YzxA_",
    "outputId": "bbc90101-21b6-4b1a-dd9e-ddc37b97d4d7"
   },
   "outputs": [],
   "source": []
  },
  {
   "cell_type": "markdown",
   "metadata": {
    "id": "gFr0dpsAGzGR"
   },
   "source": [
    "### **7. Defining a Loss Function and Optimizer**\n",
    "\n",
    "We need to define what type of loss we'll be using and what method will be using to update the gradients.\n",
    "1. We use Cross Entropy Loss as it is a multi-class problem\n",
    "2. We use Stochastic Gradient Descent (SGD) - we also specify a learn rate (LR) of 0.001 and momentum 0.9"
   ]
  },
  {
   "cell_type": "code",
   "execution_count": null,
   "metadata": {
    "executionInfo": {
     "elapsed": 13,
     "status": "ok",
     "timestamp": 1638034361264,
     "user": {
      "displayName": "Rajeev Ratan",
      "photoUrl": "https://lh3.googleusercontent.com/a-/AOh14GgtO-hUyDqrPmYR3HGcaXMtwRIq1ObsdPjhiGDSWSw=s64",
      "userId": "08597265227091462140"
     },
     "user_tz": 0
    },
    "id": "rp-MjS9MQU2r"
   },
   "outputs": [],
   "source": []
  },
  {
   "cell_type": "markdown",
   "metadata": {
    "id": "DbuquxGwKaN3"
   },
   "source": [
    "### **8. Training Our Model**\n"
   ]
  },
  {
   "cell_type": "code",
   "execution_count": null,
   "metadata": {
    "colab": {
     "base_uri": "https://localhost:8080/"
    },
    "executionInfo": {
     "elapsed": 334667,
     "status": "ok",
     "timestamp": 1638034695919,
     "user": {
      "displayName": "Rajeev Ratan",
      "photoUrl": "https://lh3.googleusercontent.com/a-/AOh14GgtO-hUyDqrPmYR3HGcaXMtwRIq1ObsdPjhiGDSWSw=s64",
      "userId": "08597265227091462140"
     },
     "user_tz": 0
    },
    "id": "1f3SyLTnQXpd",
    "outputId": "cfefdbdf-dd4f-4171-849e-4dccf2506dd5"
   },
   "outputs": [],
   "source": []
  },
  {
   "cell_type": "markdown",
   "metadata": {
    "id": "VGtGNRYIvfds"
   },
   "source": [
    "## **9. Saving Our Model**\n",
    "\n",
    "We use the ```torch.save()``` function to save our model.\n",
    "\n",
    "```net.state_dict()``` saves our model weights in a dictionay format."
   ]
  },
  {
   "cell_type": "code",
   "execution_count": null,
   "metadata": {
    "executionInfo": {
     "elapsed": 214,
     "status": "ok",
     "timestamp": 1638039196022,
     "user": {
      "displayName": "Rajeev Ratan",
      "photoUrl": "https://lh3.googleusercontent.com/a-/AOh14GgtO-hUyDqrPmYR3HGcaXMtwRIq1ObsdPjhiGDSWSw=s64",
      "userId": "08597265227091462140"
     },
     "user_tz": 0
    },
    "id": "zUK_ycowvebx"
   },
   "outputs": [],
   "source": []
  },
  {
   "cell_type": "markdown",
   "metadata": {
    "id": "n2360EXUviyV"
   },
   "source": [
    "### **Let's look at some images from your Test Data and view their Ground Truth labels**"
   ]
  },
  {
   "cell_type": "code",
   "execution_count": null,
   "metadata": {
    "colab": {
     "base_uri": "https://localhost:8080/",
     "height": 307
    },
    "executionInfo": {
     "elapsed": 51,
     "status": "ok",
     "timestamp": 1638034695920,
     "user": {
      "displayName": "Rajeev Ratan",
      "photoUrl": "https://lh3.googleusercontent.com/a-/AOh14GgtO-hUyDqrPmYR3HGcaXMtwRIq1ObsdPjhiGDSWSw=s64",
      "userId": "08597265227091462140"
     },
     "user_tz": 0
    },
    "id": "oZeEP2envjIV",
    "outputId": "1c5dd392-e98e-4c80-87cc-afec9742fdea"
   },
   "outputs": [],
   "source": []
  },
  {
   "cell_type": "markdown",
   "metadata": {
    "id": "yl5QZX8fToT4"
   },
   "source": [
    "### **Let's reload the model we just saved**"
   ]
  },
  {
   "cell_type": "code",
   "execution_count": null,
   "metadata": {
    "colab": {
     "base_uri": "https://localhost:8080/"
    },
    "executionInfo": {
     "elapsed": 50,
     "status": "ok",
     "timestamp": 1638034695921,
     "user": {
      "displayName": "Rajeev Ratan",
      "photoUrl": "https://lh3.googleusercontent.com/a-/AOh14GgtO-hUyDqrPmYR3HGcaXMtwRIq1ObsdPjhiGDSWSw=s64",
      "userId": "08597265227091462140"
     },
     "user_tz": 0
    },
    "id": "57QsyFipv-em",
    "outputId": "69029648-9915-4343-db9d-13f7ef5746ad"
   },
   "outputs": [],
   "source": []
  },
  {
   "cell_type": "markdown",
   "metadata": {
    "id": "PIr98iGPTxhu"
   },
   "source": [
    "#### **Getting Predictions**\n",
    "\n",
    "Note when working with tensors on the GPU, we have to convert it back to a numpy array to perform python operations on it.\n",
    "\n",
    "```your_tensor.cpu().numpy()```"
   ]
  },
  {
   "cell_type": "code",
   "execution_count": null,
   "metadata": {
    "colab": {
     "base_uri": "https://localhost:8080/"
    },
    "executionInfo": {
     "elapsed": 43,
     "status": "ok",
     "timestamp": 1638034695921,
     "user": {
      "displayName": "Rajeev Ratan",
      "photoUrl": "https://lh3.googleusercontent.com/a-/AOh14GgtO-hUyDqrPmYR3HGcaXMtwRIq1ObsdPjhiGDSWSw=s64",
      "userId": "08597265227091462140"
     },
     "user_tz": 0
    },
    "id": "bNIGC5v-v_1U",
    "outputId": "e28fe475-196a-4111-90b7-50cb5aa1392e"
   },
   "outputs": [],
   "source": []
  },
  {
   "cell_type": "markdown",
   "metadata": {
    "id": "WxvvJclvyNO4"
   },
   "source": [
    "#### **Showing our Test Accuracy again**"
   ]
  },
  {
   "cell_type": "code",
   "execution_count": null,
   "metadata": {
    "colab": {
     "base_uri": "https://localhost:8080/"
    },
    "executionInfo": {
     "elapsed": 1724,
     "status": "ok",
     "timestamp": 1638034697975,
     "user": {
      "displayName": "Rajeev Ratan",
      "photoUrl": "https://lh3.googleusercontent.com/a-/AOh14GgtO-hUyDqrPmYR3HGcaXMtwRIq1ObsdPjhiGDSWSw=s64",
      "userId": "08597265227091462140"
     },
     "user_tz": 0
    },
    "id": "NYfSDnSvmMGo",
    "outputId": "e903b5dd-5204-4113-cd5c-c093e643e78c"
   },
   "outputs": [],
   "source": []
  },
  {
   "cell_type": "markdown",
   "metadata": {
    "id": "D111_mY25sG9"
   },
   "source": [
    "## **10. Plotting our Training Logs**\n",
    "\n",
    "Remember we created some lists to log our training stats?\n",
    "\n",
    "```\n",
    "# Create some empty arrays to store logs \n",
    "epoch_log = []\n",
    "loss_log = []\n",
    "accuracy_log = []\n",
    "```\n",
    "\n",
    "**Let's now plot those logs**"
   ]
  },
  {
   "cell_type": "code",
   "execution_count": null,
   "metadata": {
    "colab": {
     "base_uri": "https://localhost:8080/",
     "height": 321
    },
    "executionInfo": {
     "elapsed": 515,
     "status": "ok",
     "timestamp": 1638034698481,
     "user": {
      "displayName": "Rajeev Ratan",
      "photoUrl": "https://lh3.googleusercontent.com/a-/AOh14GgtO-hUyDqrPmYR3HGcaXMtwRIq1ObsdPjhiGDSWSw=s64",
      "userId": "08597265227091462140"
     },
     "user_tz": 0
    },
    "id": "UsASSgL15jY0",
    "outputId": "495cfae2-bb47-4747-d04e-30c2e2c8c0ff"
   },
   "outputs": [],
   "source": []
  }
 ],
 "metadata": {
  "accelerator": "GPU",
  "colab": {
   "authorship_tag": "ABX9TyNi/QfeVWMsUCBK5jlV7sHM",
   "collapsed_sections": [
    "0GATKBH0V7_X"
   ],
   "name": "1. PyTorch CNN Tutorial MNIST.ipynb",
   "provenance": []
  },
  "kernelspec": {
   "display_name": "Python 3 (ipykernel)",
   "language": "python",
   "name": "python3"
  },
  "language_info": {
   "codemirror_mode": {
    "name": "ipython",
    "version": 3
   },
   "file_extension": ".py",
   "mimetype": "text/x-python",
   "name": "python",
   "nbconvert_exporter": "python",
   "pygments_lexer": "ipython3",
   "version": "3.9.13"
  }
 },
 "nbformat": 4,
 "nbformat_minor": 1
}
